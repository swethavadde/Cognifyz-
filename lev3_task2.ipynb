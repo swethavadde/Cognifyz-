{
  "nbformat": 4,
  "nbformat_minor": 0,
  "metadata": {
    "colab": {
      "provenance": []
    },
    "kernelspec": {
      "name": "python3",
      "display_name": "Python 3"
    },
    "language_info": {
      "name": "python"
    }
  },
  "cells": [
    {
      "cell_type": "code",
      "source": [
        "import pandas as pd\n",
        "import matplotlib.pyplot as plt\n",
        "data=pd.read_csv(\"/content/Dataset .csv\")\n",
        "highest_votes = data[data['Votes'] == data['Votes'].max()]\n",
        "print(\"Restaurants with the highest number of votes:\")\n",
        "print(highest_votes[['Restaurant Name', 'Votes']])"
      ],
      "metadata": {
        "colab": {
          "base_uri": "https://localhost:8080/"
        },
        "id": "Nc5-aCVnLE6j",
        "outputId": "ce43ffdb-0c78-4108-99ef-eb7d52a56933"
      },
      "execution_count": 14,
      "outputs": [
        {
          "output_type": "stream",
          "name": "stdout",
          "text": [
            "Restaurants with the highest number of votes:\n",
            "    Restaurant Name  Votes\n",
            "728            Toit  10934\n"
          ]
        }
      ]
    },
    {
      "cell_type": "code",
      "source": [
        "lowest_votes = data[data['Votes'] == data['Votes'].min()]\n",
        "print(\"\\nRestaurants with the lowest number of votes:\")\n",
        "print(lowest_votes[['Restaurant Name', 'Votes']])"
      ],
      "metadata": {
        "colab": {
          "base_uri": "https://localhost:8080/"
        },
        "id": "0zRXiW9CLMWR",
        "outputId": "5bcd7e9e-f413-45a4-99cc-289d2bea415c"
      },
      "execution_count": 15,
      "outputs": [
        {
          "output_type": "stream",
          "name": "stdout",
          "text": [
            "\n",
            "Restaurants with the lowest number of votes:\n",
            "                 Restaurant Name  Votes\n",
            "69              Cantinho da Gula      0\n",
            "874                The Chaiwalas      0\n",
            "879           Fusion Food Corner      0\n",
            "880                Punjabi Rasoi      0\n",
            "887                Baskin Robbin      0\n",
            "...                          ...    ...\n",
            "9044               6 Packs Momos      0\n",
            "9098                   Cafe' Wow      0\n",
            "9099  Chef's Basket Pop Up Caf��      0\n",
            "9103            The Hangout-Deli      0\n",
            "9111                    Platters      0\n",
            "\n",
            "[1094 rows x 2 columns]\n"
          ]
        }
      ]
    }
  ]
}